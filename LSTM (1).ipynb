{
 "cells": [
  {
   "cell_type": "code",
   "execution_count": null,
   "id": "8c6e6cb4",
   "metadata": {},
   "outputs": [],
   "source": [
    "import matplotlib.pyplot as plt\n",
    "from keras.models import Sequential\n",
    "from keras.optimizers import Adam\n",
    "from sklearn.preprocessing import MinMaxScaler\n",
    "from keras.layers import Dense, Dropout, LSTM\n",
    "from sklearn.metrics import mean_squared_error\n",
    "import pandas as pd\n",
    "import numpy as np\n",
    "from datetime import date\n",
    "import joblib"
   ]
  },
  {
   "cell_type": "code",
   "execution_count": null,
   "id": "77814f16",
   "metadata": {},
   "outputs": [],
   "source": [
    "step = 5\n",
    "btc = pd.read_csv('btc-usdt.csv')\n",
    "\n",
    "btc.drop(['Open Time','Close Time','Ignore','TB Base Volume','TB Quote Volume','Quote Asset Volume'], axis = 1, inplace = True)\n",
    "train = btc.loc[:39999]\n",
    "valid = btc.loc[40000:]\n",
    "\n",
    "scaler = MinMaxScaler(feature_range=(0, 1))  \n",
    "\n",
    "scaled_data = scaler.fit_transform(train)\n",
    "x_train, y_train = [], []\n",
    "for i in range(step, len(train)):\n",
    "    x_train.append(scaled_data[i - step:i])\n",
    "    y_train.append(scaled_data[i, 3])\n",
    "\n",
    "x_train, y_train = np.array(x_train), np.array(y_train)\n",
    "\n",
    "scaled_data = scaler.fit_transform(valid)\n",
    "x_valid, y_valid = [], []\n",
    "for i in range(step, len(valid)):\n",
    "    x_valid.append(scaled_data[i - step:i])\n",
    "    y_valid.append(scaled_data[i, 3])\n",
    "\n",
    "x_valid, y_valid = np.array(x_valid), np.array(y_valid)\n",
    "x_train.shape"
   ]
  },
  {
   "cell_type": "code",
   "execution_count": null,
   "id": "5c87c3a0",
   "metadata": {},
   "outputs": [],
   "source": [
    "''' = joblib.load('filename.pkl') '''"
   ]
  },
  {
   "cell_type": "code",
   "execution_count": null,
   "id": "ee020bf6",
   "metadata": {
    "scrolled": true
   },
   "outputs": [],
   "source": [
    "epochs = 30\n",
    "batch_size = 16\n",
    "model = Sequential()\n",
    "model.add(LSTM(units=150, return_sequences=True, input_dim=x_train.shape[-1], input_length=x_train.shape[1]))\n",
    "model.add(LSTM(units=50))\n",
    "model.add(Dense(1))\n",
    "model.compile(loss='mean_squared_error', optimizer='adam')\n",
    "model.fit(x_train, y_train , epochs=epochs, batch_size=batch_size, verbose=1)"
   ]
  },
  {
   "cell_type": "code",
   "execution_count": null,
   "id": "25807e37",
   "metadata": {
    "scrolled": true
   },
   "outputs": [],
   "source": [
    "joblib.dump(model, 'laptop.pkl')"
   ]
  },
  {
   "cell_type": "code",
   "execution_count": null,
   "id": "d5712d2e",
   "metadata": {
    "scrolled": true
   },
   "outputs": [],
   "source": [
    "closing_price = model.predict(x_valid)\n",
    "scaler.fit_transform(pd.DataFrame(valid['Close'].values))\n",
    "\n",
    "closing_price = scaler.inverse_transform(closing_price)\n",
    "real = scaler.inverse_transform([y_valid])\n",
    "print(real)\n",
    "# print(closing_price)\n",
    "\n",
    "print(mean_squared_error(real.reshape(-1,1), closing_price.reshape(-1,1)))\n",
    "print(closing_price.shape)\n",
    "print(real.shape)"
   ]
  },
  {
   "cell_type": "code",
   "execution_count": null,
   "id": "eb488aca",
   "metadata": {},
   "outputs": [],
   "source": [
    "plt.figure(figsize=(15, 10))\n",
    "dict_data = {\n",
    "    'Predictions': closing_price.reshape(1,-1)[0,:],\n",
    "    'Close': real[0,:]\n",
    "}\n",
    "data_pd = pd.DataFrame(dict_data)\n",
    "\n",
    "plt.plot(data_pd[['Close', 'Predictions']])\n",
    "plt.show()"
   ]
  },
  {
   "cell_type": "code",
   "execution_count": null,
   "id": "cc906dc1",
   "metadata": {},
   "outputs": [],
   "source": [
    "eth = pd.read_csv('eth-usdt.csv')\n",
    "eth.drop(['Open Time','Close Time','Ignore','TB Base Volume','TB Quote Volume','Quote Asset Volume'], axis = 1, inplace = True)\n",
    "\n",
    "newscaler = MinMaxScaler(feature_range=(0, 1))\n",
    "scaled_eth = newscaler.fit_transform(eth[:])\n",
    "x_eth, y_eth = [], []\n",
    "for i in range(step, len(eth)):\n",
    "    x_eth.append(scaled_eth[i - step:i])\n",
    "    y_eth.append(scaled_eth[i, 3])\n",
    "\n",
    "x_eth, y_eth = np.array(x_eth), np.array(y_eth)\n",
    "\n",
    "pred = model.predict(x_eth)\n",
    "newscaler.fit_transform(pd.DataFrame(eth['Close'].values))\n",
    "pred = newscaler.inverse_transform(pred)\n",
    "re = newscaler.inverse_transform([y_eth])\n",
    "print(mean_squared_error(re.reshape(-1,1), pred.reshape(-1,1)))\n"
   ]
  },
  {
   "cell_type": "code",
   "execution_count": null,
   "id": "78c96bb6",
   "metadata": {
    "scrolled": true
   },
   "outputs": [],
   "source": [
    "plt.figure(figsize=(10, 5))\n",
    "dict_eth = {\n",
    "    'Predictions': pred.reshape(1,-1)[0,20000:20050],\n",
    "    'Close': re[0,20000:20050]\n",
    "}\n",
    "data_eth = pd.DataFrame(dict_eth)\n",
    "\n",
    "plt.plot(data_eth[['Close', 'Predictions']])\n",
    "plt.show()"
   ]
  },
  {
   "cell_type": "code",
   "execution_count": null,
   "id": "128fb469",
   "metadata": {},
   "outputs": [],
   "source": []
  }
 ],
 "metadata": {
  "kernelspec": {
   "display_name": "Python 3 (ipykernel)",
   "language": "python",
   "name": "python3"
  },
  "language_info": {
   "codemirror_mode": {
    "name": "ipython",
    "version": 3
   },
   "file_extension": ".py",
   "mimetype": "text/x-python",
   "name": "python",
   "nbconvert_exporter": "python",
   "pygments_lexer": "ipython3",
   "version": "3.10.4"
  }
 },
 "nbformat": 4,
 "nbformat_minor": 5
}
