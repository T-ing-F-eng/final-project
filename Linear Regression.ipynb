{
 "cells": [
  {
   "cell_type": "code",
   "execution_count": null,
   "id": "333420cd",
   "metadata": {},
   "outputs": [],
   "source": [
    "import pandas as pd\n",
    "import matplotlib.pyplot as plt\n",
    "import numpy as np\n",
    "from sklearn.metrics import mean_squared_error\n",
    "from sklearn.linear_model import LinearRegression, Ridge\n",
    "from sklearn.model_selection import train_test_split, cross_val_score\n",
    "from xgboost import XGBRegressor\n",
    "import statsmodels.formula.api as smf"
   ]
  },
  {
   "cell_type": "code",
   "execution_count": null,
   "id": "330e0666",
   "metadata": {},
   "outputs": [],
   "source": [
    "btc = pd.read_csv('btc-usdt.csv')\n",
    "valid = pd.DataFrame(btc.loc[40000:])\n",
    "btc = pd.DataFrame(btc.loc[:39999])"
   ]
  },
  {
   "cell_type": "code",
   "execution_count": null,
   "id": "e446f3e7",
   "metadata": {
    "scrolled": true
   },
   "outputs": [],
   "source": [
    "btc.rename(columns = {'Open Time':'Opentime','Close Time':'Closetime'},inplace = True)\n",
    "valid.rename(columns = {'Open Time':'Opentime','Close Time':'Closetime'},inplace = True)"
   ]
  },
  {
   "cell_type": "code",
   "execution_count": null,
   "id": "bc3ff1b2",
   "metadata": {
    "scrolled": true
   },
   "outputs": [],
   "source": [
    "btc['Opentime'] = pd.to_datetime(btc.Opentime)\n",
    "valid['Opentime'] = pd.to_datetime(valid.Opentime)\n",
    "btc['Closetime'] = pd.to_datetime(btc.Closetime)\n",
    "valid['Closetime'] = pd.to_datetime(valid.Closetime)\n",
    "btc"
   ]
  },
  {
   "cell_type": "code",
   "execution_count": null,
   "id": "7bfe9eec",
   "metadata": {},
   "outputs": [],
   "source": [
    "plt.figure(figsize=(10, 5))\n",
    "plt.plot(btc.index, btc.Close, label = 'close price', linewidth = '1')\n",
    "plt.plot(valid.index, valid.Close, label = 'valid')\n",
    "plt.legend()\n",
    "plt.show()\n"
   ]
  },
  {
   "cell_type": "code",
   "execution_count": null,
   "id": "220947bd",
   "metadata": {
    "scrolled": true
   },
   "outputs": [],
   "source": [
    "btc['lag_1'] = btc['Close'].shift(1)\n",
    "btc['lag_2'] = btc['Close'].shift(2)\n",
    "btc['lag_3'] = btc['Close'].shift(3)\n",
    "btc['lag_4'] = btc['Close'].shift(4)\n",
    "btc['lag_5'] = btc['Close'].shift(5)\n",
    "btc['trade_lag'] = btc['Number of Trades'].shift(1)\n",
    "btc.dropna(axis = 0, inplace = True)\n",
    "\n",
    "model = LinearRegression()\n",
    "model.fit(btc[['trade_lag']], btc[['Close']])\n",
    "print(model.score(btc[['trade_lag']],btc[['Close']]))\n",
    "\n",
    "plt.subplot(1,2,1)\n",
    "plt.xlabel(\"lag_1\", fontsize = 20)\n",
    "plt.ylabel(\"close\", fontsize = 20)\n",
    "plt.scatter(btc.lag_1, btc.Close, s = 0.5)\n",
    "\n",
    "plt.subplot(1,2,2)\n",
    "plt.xlabel(\"trade_lag\", fontsize = 20)\n",
    "#plt.ylabel(\"close\", fontsize = 5)\n",
    "plt.scatter(btc.trade_lag, btc.Close, s = 0.5)\n",
    "\n",
    "plt.show()"
   ]
  },
  {
   "cell_type": "code",
   "execution_count": null,
   "id": "fde5e408",
   "metadata": {},
   "outputs": [],
   "source": [
    "data = pd.concat([btc.trade_lag, btc.Close], axis=1)\n",
    "mod = smf.ols(\"tra ~ cls\", data).fit()\n",
    "print(mod.summary())"
   ]
  },
  {
   "cell_type": "code",
   "execution_count": null,
   "id": "1c0e369b",
   "metadata": {
    "scrolled": true
   },
   "outputs": [],
   "source": [
    "X = pd.DataFrame(btc[['lag_1', 'lag_2', 'lag_3', 'lag_4', 'lag_5']])\n",
    "Y = pd.DataFrame(btc['Close'])\n",
    "x_train , x_test,y_train, y_test = train_test_split(X,Y)\n",
    "#print(x_train.info(),y_train.info())\n",
    "#print(X,Y)\n",
    "model = LinearRegression()\n",
    "model_1 = XGBRegressor()\n",
    "model_2 = Ridge()\n",
    "\n",
    "cross_val_score(model_2,x_train,y_train)"
   ]
  },
  {
   "cell_type": "code",
   "execution_count": null,
   "id": "a93adde0",
   "metadata": {
    "scrolled": true
   },
   "outputs": [],
   "source": [
    "model.fit(x_train,y_train )\n",
    "x_test = pd.DataFrame(x_test)\n",
    "pred = pd.DataFrame(model.predict(x_test),columns = ['value'])\n",
    "new_pred = pred.reindex(x_test.index)\n",
    "new_pred['value'] = [i for i in pred['value']]\n",
    "\n",
    "df = pd.concat([x_test, new_pred], axis =1)\n",
    "df.sort_index(inplace = True)\n",
    "#print(df)\n",
    "x = df.loc[:].index\n",
    "y = df.loc[:]['value']\n",
    "y_test.sort_index(inplace = True)\n",
    "\n",
    "y_real = y_test.loc[:]\n",
    "#trend = np.array(y_real.rolling(window=1000, center =True,min_periods=1).mean())\n",
    "plt.figure(figsize= (10, 5))\n",
    "plt.plot(x, y, label = 'pred')\n",
    "plt.plot(x, y_real['Close'], label = 'real')\n",
    "#plt.plot(x,trend)\n",
    "plt.legend()\n",
    "plt.show()\n",
    "\n",
    "print(mean_squared_error(y,y_real)**0.5)\n",
    "print(model.score(x_train,y_train))"
   ]
  },
  {
   "cell_type": "code",
   "execution_count": null,
   "id": "408df0ac",
   "metadata": {},
   "outputs": [],
   "source": [
    "valid['lag_1'] = valid['Close'].shift(1)\n",
    "valid['lag_2'] = valid['Close'].shift(2)\n",
    "valid['lag_3'] = valid['Close'].shift(3)\n",
    "valid['lag_4'] = valid['Close'].shift(4)\n",
    "valid['lag_5'] = valid['Close'].shift(5)\n",
    "valid['trade_lag'] = valid['Number of Trades'].shift(1)\n",
    "valid.dropna(inplace = True)\n",
    "#print(valid)\n",
    "\n",
    "valid = valid.loc[40000:40050]\n",
    "pre = model.predict(valid[['lag_1','lag_2','lag_3','lag_4','lag_5']])\n",
    "plt.figure(figsize =(10,5))\n",
    "plt.plot(valid.index, pre, label = 'pred')\n",
    "plt.plot(valid.index, valid['Close'], label = 'real')\n",
    "plt.legend()\n",
    "plt.show()\n",
    "print(mean_squared_error(pre,valid['Close'])**0.5)"
   ]
  },
  {
   "cell_type": "code",
   "execution_count": null,
   "id": "f280292e",
   "metadata": {
    "scrolled": true
   },
   "outputs": [],
   "source": [
    "eth = pd.read_csv('eth-usdt.csv')\n",
    "\n",
    "eth['lag_1'] = eth['Close'].shift(1)\n",
    "eth['lag_2'] = eth['Close'].shift(2)\n",
    "eth['lag_3'] = eth['Close'].shift(3)\n",
    "eth['lag_4'] = eth['Close'].shift(4)\n",
    "eth['lag_5'] = eth['Close'].shift(5)\n",
    "eth['trade_lag'] = eth['Number of Trades'].shift(5)\n",
    "eth.dropna(inplace = True)\n",
    "\n",
    "eth_x = eth[['lag_1','lag_2','lag_3','lag_4','lag_5']]\n",
    "eth_y = eth['Close']\n",
    "p = np.array(model_2.predict(eth_x))\n",
    "print(mean_squared_error(p,eth_y)**0.5)\n",
    "print(model.score(eth_x,eth_y))"
   ]
  },
  {
   "cell_type": "code",
   "execution_count": null,
   "id": "3a888853",
   "metadata": {},
   "outputs": [],
   "source": [
    "plt.figure(figsize=(10,5))\n",
    "plt.plot(eth_y.loc[6000:6050].index, eth_y.loc[6000:6050], label = 'pred')\n",
    "plt.plot(eth_y.loc[6000:6050].index, p[6000:6051])\n",
    "plt.legend()\n",
    "plt.show()"
   ]
  },
  {
   "cell_type": "code",
   "execution_count": null,
   "id": "4f98d4a1",
   "metadata": {},
   "outputs": [],
   "source": []
  }
 ],
 "metadata": {
  "kernelspec": {
   "display_name": "Python 3 (ipykernel)",
   "language": "python",
   "name": "python3"
  },
  "language_info": {
   "codemirror_mode": {
    "name": "ipython",
    "version": 3
   },
   "file_extension": ".py",
   "mimetype": "text/x-python",
   "name": "python",
   "nbconvert_exporter": "python",
   "pygments_lexer": "ipython3",
   "version": "3.10.4"
  }
 },
 "nbformat": 4,
 "nbformat_minor": 5
}
